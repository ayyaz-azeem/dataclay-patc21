{
 "cells": [
  {
   "cell_type": "markdown",
   "metadata": {},
   "source": [
    "# WordCount\n",
    "\n",
    "## Check the data model (classes)\n",
    "\n",
    "You can check the classes definitions by going into the [model](model/) folder.\n",
    "\n",
    "You will find two different files:\n",
    "\n",
    " - `words.py` which contains the `Words` class, intended to store the collection of words.\n",
    " - `result.py` which contains the `Result` class, intended to store the result of the Word Count.\n",
    "\n",
    "## Text Generation\n",
    "\n",
    "Initialize the Storage Library, and read some Lorem Ipsum text from a file."
   ]
  },
  {
   "cell_type": "code",
   "execution_count": null,
   "metadata": {},
   "outputs": [],
   "source": [
    "import storage.api\n",
    "\n",
    "storage.api.init()"
   ]
  },
  {
   "cell_type": "code",
   "execution_count": null,
   "metadata": {},
   "outputs": [],
   "source": [
    "# Read the data from the loremipsum.txt\n",
    "with open(\"loremipsum.txt\") as f:\n",
    "    lipsum_text = f.read()\n",
    "    lipsum_text\n",
    "\n",
    "print (\"Size of the \\\"Lorem Ipsum\\\" text: %d characters\" % len(lipsum_text))"
   ]
  },
  {
   "cell_type": "code",
   "execution_count": null,
   "metadata": {},
   "outputs": [],
   "source": [
    "# Split the data into words and store it in the data structure:\n",
    "from model.words import Words\n",
    "\n",
    "w = Words()\n",
    "\n",
    "# Make the data structure persistent (with the alias \"WordCountWords\")\n",
    "w.make_persistent(\"WordCountWords\")\n",
    "\n",
    "print(\"Words is persistent and is empty (#%d elements)\" % len(w))\n",
    "\n",
    "for i, item in enumerate(lipsum_text.split()):\n",
    "    # Remove punctuation signs and make the word lowercase\n",
    "    sanitized = item.strip('.,').lower()\n",
    "    w[i] = sanitized\n",
    "\n",
    "print(\"Number of iterations done: %d\" % (i + 1))\n",
    "print(\"`Words`' objects has been populated, number of elements: %d\" % len(w))"
   ]
  },
  {
   "cell_type": "markdown",
   "metadata": {},
   "source": [
    "Check that the object has been persisted and the number of words is the expected one:"
   ]
  },
  {
   "cell_type": "code",
   "execution_count": null,
   "metadata": {},
   "outputs": [],
   "source": [
    "w_bis = Words.get_by_alias(\"WordCountWords\")\n",
    "print(\"Number of words persisted:\", len(w_bis))"
   ]
  },
  {
   "cell_type": "code",
   "execution_count": null,
   "metadata": {},
   "outputs": [],
   "source": []
  }
 ],
 "metadata": {
  "language_info": {
   "name": "python",
   "pygments_lexer": "ipython3"
  }
 },
 "nbformat": 4,
 "nbformat_minor": 2
}
