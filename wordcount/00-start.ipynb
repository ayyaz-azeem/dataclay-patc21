{
 "cells": [
  {
   "cell_type": "markdown",
   "metadata": {},
   "source": [
    "# Preliminaries\n",
    "\n",
    "For this course, we will be explicitly starting (and restarting, when needed) the dataClay services.\n",
    "\n",
    "A couple of scripts will do the heavy-lifting --i.e. starting the dataClay services and registering the data model.\n",
    "\n",
    " - `dataclay-start.sh`\n",
    " - `dataclay-restart.sh`\n",
    " - `dataclay-registermodel.sh`\n",
    "\n",
    "The scripts should be called from within the Jupyter Notebook environment. This is due to the way that we are using MareNostrum and reservation nodes."
   ]
  },
  {
   "cell_type": "markdown",
   "metadata": {},
   "source": [
    "## Start dataClay"
   ]
  },
  {
   "cell_type": "code",
   "execution_count": 4,
   "metadata": {},
   "outputs": [
    {
     "name": "stdout",
     "output_type": "stream",
     "text": [
      "zsh:1: no such file or directory: ../dataclay-start.sh\r\n"
     ]
    }
   ],
   "source": [
    "!../dataclay-start.sh"
   ]
  },
  {
   "cell_type": "markdown",
   "metadata": {},
   "source": [
    "## Restart dataClay"
   ]
  },
  {
   "cell_type": "code",
   "execution_count": 2,
   "metadata": {},
   "outputs": [
    {
     "name": "stdout",
     "output_type": "stream",
     "text": [
      "zsh:1: command not found: dataclay-restart.sh\r\n"
     ]
    }
   ],
   "source": [
    "!../dataclay-restart.sh"
   ]
  },
  {
   "cell_type": "markdown",
   "metadata": {},
   "source": [
    "## Register the data model"
   ]
  },
  {
   "cell_type": "code",
   "execution_count": 5,
   "metadata": {},
   "outputs": [
    {
     "name": "stdout",
     "output_type": "stream",
     "text": [
      "zsh:1: command not found: dataclay-registermodel.sh\r\n"
     ]
    }
   ],
   "source": [
    "!dataclay-registermodel.sh"
   ]
  },
  {
   "cell_type": "code",
   "execution_count": null,
   "metadata": {},
   "outputs": [],
   "source": []
  }
 ],
 "metadata": {
  "kernelspec": {
   "display_name": "Python 3.8.2 64-bit ('venv': venv)",
   "language": "python",
   "name": "python38264bitvenvvenv4cfbf5b22e8f46969689dcb35202c7e4"
  },
  "language_info": {
   "codemirror_mode": {
    "name": "ipython",
    "version": 3
   },
   "file_extension": ".py",
   "mimetype": "text/x-python",
   "name": "python",
   "nbconvert_exporter": "python",
   "pygments_lexer": "ipython3",
   "version": "3.8.5"
  }
 },
 "nbformat": 4,
 "nbformat_minor": 4
}
